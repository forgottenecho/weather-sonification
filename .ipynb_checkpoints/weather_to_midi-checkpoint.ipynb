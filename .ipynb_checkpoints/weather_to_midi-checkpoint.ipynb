{
 "cells": [
  {
   "cell_type": "code",
   "execution_count": 1,
   "id": "db7020a2-e346-40ae-b6b8-ba6bd7ef0566",
   "metadata": {},
   "outputs": [],
   "source": [
    "# imports\n",
    "import pandas\n",
    "import matplotlib.pyplot as plt"
   ]
  },
  {
   "cell_type": "code",
   "execution_count": 2,
   "id": "4aadf4ee-2f65-496f-916a-9e47ed3e59ba",
   "metadata": {},
   "outputs": [],
   "source": [
    "# load up the data\n",
    "data = pandas.read_csv('weather_data.csv')"
   ]
  },
  {
   "cell_type": "code",
   "execution_count": 3,
   "id": "37aebea9-ad70-4e23-9547-dbc70ec79478",
   "metadata": {},
   "outputs": [
    {
     "data": {
      "text/html": [
       "<div>\n",
       "<style scoped>\n",
       "    .dataframe tbody tr th:only-of-type {\n",
       "        vertical-align: middle;\n",
       "    }\n",
       "\n",
       "    .dataframe tbody tr th {\n",
       "        vertical-align: top;\n",
       "    }\n",
       "\n",
       "    .dataframe thead th {\n",
       "        text-align: right;\n",
       "    }\n",
       "</style>\n",
       "<table border=\"1\" class=\"dataframe\">\n",
       "  <thead>\n",
       "    <tr style=\"text-align: right;\">\n",
       "      <th></th>\n",
       "      <th>TMAX</th>\n",
       "      <th>PRCP</th>\n",
       "      <th>SNOW</th>\n",
       "      <th>WT16</th>\n",
       "      <th>WT03</th>\n",
       "    </tr>\n",
       "  </thead>\n",
       "  <tbody>\n",
       "    <tr>\n",
       "      <th>count</th>\n",
       "      <td>3653.000000</td>\n",
       "      <td>3653.000000</td>\n",
       "      <td>3651.000000</td>\n",
       "      <td>161.0</td>\n",
       "      <td>303.0</td>\n",
       "    </tr>\n",
       "    <tr>\n",
       "      <th>mean</th>\n",
       "      <td>64.669313</td>\n",
       "      <td>0.130947</td>\n",
       "      <td>0.090852</td>\n",
       "      <td>1.0</td>\n",
       "      <td>1.0</td>\n",
       "    </tr>\n",
       "    <tr>\n",
       "      <th>std</th>\n",
       "      <td>18.831941</td>\n",
       "      <td>0.373414</td>\n",
       "      <td>0.764248</td>\n",
       "      <td>0.0</td>\n",
       "      <td>0.0</td>\n",
       "    </tr>\n",
       "    <tr>\n",
       "      <th>min</th>\n",
       "      <td>14.000000</td>\n",
       "      <td>0.000000</td>\n",
       "      <td>0.000000</td>\n",
       "      <td>1.0</td>\n",
       "      <td>1.0</td>\n",
       "    </tr>\n",
       "    <tr>\n",
       "      <th>25%</th>\n",
       "      <td>49.000000</td>\n",
       "      <td>0.000000</td>\n",
       "      <td>0.000000</td>\n",
       "      <td>1.0</td>\n",
       "      <td>1.0</td>\n",
       "    </tr>\n",
       "    <tr>\n",
       "      <th>50%</th>\n",
       "      <td>66.000000</td>\n",
       "      <td>0.000000</td>\n",
       "      <td>0.000000</td>\n",
       "      <td>1.0</td>\n",
       "      <td>1.0</td>\n",
       "    </tr>\n",
       "    <tr>\n",
       "      <th>75%</th>\n",
       "      <td>81.000000</td>\n",
       "      <td>0.050000</td>\n",
       "      <td>0.000000</td>\n",
       "      <td>1.0</td>\n",
       "      <td>1.0</td>\n",
       "    </tr>\n",
       "    <tr>\n",
       "      <th>max</th>\n",
       "      <td>104.000000</td>\n",
       "      <td>8.410000</td>\n",
       "      <td>24.000000</td>\n",
       "      <td>1.0</td>\n",
       "      <td>1.0</td>\n",
       "    </tr>\n",
       "  </tbody>\n",
       "</table>\n",
       "</div>"
      ],
      "text/plain": [
       "              TMAX         PRCP         SNOW   WT16   WT03\n",
       "count  3653.000000  3653.000000  3651.000000  161.0  303.0\n",
       "mean     64.669313     0.130947     0.090852    1.0    1.0\n",
       "std      18.831941     0.373414     0.764248    0.0    0.0\n",
       "min      14.000000     0.000000     0.000000    1.0    1.0\n",
       "25%      49.000000     0.000000     0.000000    1.0    1.0\n",
       "50%      66.000000     0.000000     0.000000    1.0    1.0\n",
       "75%      81.000000     0.050000     0.000000    1.0    1.0\n",
       "max     104.000000     8.410000    24.000000    1.0    1.0"
      ]
     },
     "execution_count": 3,
     "metadata": {},
     "output_type": "execute_result"
    }
   ],
   "source": [
    "data[['TMAX','PRCP','SNOW','WT16','WT03']].describe()"
   ]
  },
  {
   "cell_type": "code",
   "execution_count": 6,
   "id": "78c75528-ccae-488c-a45f-d7e92497db3b",
   "metadata": {},
   "outputs": [
    {
     "ename": "ValueError",
     "evalue": "subplot_tool can only be launched for figures with an associated toolbar",
     "output_type": "error",
     "traceback": [
      "\u001b[1;31m---------------------------------------------------------------------------\u001b[0m",
      "\u001b[1;31mValueError\u001b[0m                                Traceback (most recent call last)",
      "Input \u001b[1;32mIn [6]\u001b[0m, in \u001b[0;36m<cell line: 12>\u001b[1;34m()\u001b[0m\n\u001b[0;32m     10\u001b[0m axs[\u001b[38;5;241m0\u001b[39m, \u001b[38;5;241m1\u001b[39m]\u001b[38;5;241m.\u001b[39mset_ylabel(\u001b[38;5;124m'\u001b[39m\u001b[38;5;124mTemperature (F)\u001b[39m\u001b[38;5;124m'\u001b[39m)\n\u001b[0;32m     11\u001b[0m axs[\u001b[38;5;241m0\u001b[39m, \u001b[38;5;241m1\u001b[39m]\u001b[38;5;241m.\u001b[39mset_title(\u001b[38;5;124m'\u001b[39m\u001b[38;5;124mDaily Precipitation\u001b[39m\u001b[38;5;124m'\u001b[39m)\n\u001b[1;32m---> 12\u001b[0m \u001b[43mplt\u001b[49m\u001b[38;5;241;43m.\u001b[39;49m\u001b[43msubplot_tool\u001b[49m\u001b[43m(\u001b[49m\u001b[43m)\u001b[49m\n\u001b[0;32m     13\u001b[0m plt\u001b[38;5;241m.\u001b[39mshow()\n",
      "File \u001b[1;32m~\\anaconda3\\envs\\weather-sonification\\lib\\site-packages\\matplotlib\\pyplot.py:1639\u001b[0m, in \u001b[0;36msubplot_tool\u001b[1;34m(targetfig)\u001b[0m\n\u001b[0;32m   1637\u001b[0m     \u001b[38;5;28;01mreturn\u001b[39;00m tb\u001b[38;5;241m.\u001b[39mtrigger_tool(\u001b[38;5;124m\"\u001b[39m\u001b[38;5;124msubplots\u001b[39m\u001b[38;5;124m\"\u001b[39m)\n\u001b[0;32m   1638\u001b[0m \u001b[38;5;28;01melse\u001b[39;00m:\n\u001b[1;32m-> 1639\u001b[0m     \u001b[38;5;28;01mraise\u001b[39;00m \u001b[38;5;167;01mValueError\u001b[39;00m(\u001b[38;5;124m\"\u001b[39m\u001b[38;5;124msubplot_tool can only be launched for figures with \u001b[39m\u001b[38;5;124m\"\u001b[39m\n\u001b[0;32m   1640\u001b[0m                      \u001b[38;5;124m\"\u001b[39m\u001b[38;5;124man associated toolbar\u001b[39m\u001b[38;5;124m\"\u001b[39m)\n",
      "\u001b[1;31mValueError\u001b[0m: subplot_tool can only be launched for figures with an associated toolbar"
     ]
    },
    {
     "data": {
      "image/png": "[encoded data removed]",
      "text/plain": [
       "<Figure size 432x288 with 4 Axes>"
      ]
     },
     "metadata": {
      "needs_background": "light"
     },
     "output_type": "display_data"
    }
   ],
   "source": [
    "# graph daily max temperature, our main variable\n",
    "fig, axs = plt.subplots(2,2)\n",
    "axs[0, 0].plot(data['TMAX'])\n",
    "axs[0, 0].set_xlabel('Days since Apr 04 2012')\n",
    "axs[0, 0].set_ylabel('Temperature (F)')\n",
    "axs[0, 0].set_title('Daily Max Temperature')\n",
    "\n",
    "axs[0, 1].plot(data['PRCP'])\n",
    "axs[0, 1].set_xlabel('Days since Apr 04 2012')\n",
    "axs[0, 1].set_ylabel('Temperature (F)') # FIXME units\n",
    "axs[0, 1].set_title('Daily Precipitation')\n",
    "\n",
    "plt.show()"
   ]
  },
  {
   "cell_type": "code",
   "execution_count": null,
   "id": "6d6d1257-8846-4a78-80ea-e152f731684f",
   "metadata": {},
   "outputs": [],
   "source": []
  }
 ],
 "metadata": {
  "kernelspec": {
   "display_name": "Python 3 (ipykernel)",
   "language": "python",
   "name": "python3"
  },
  "language_info": {
   "codemirror_mode": {
    "name": "ipython",
    "version": 3
   },
   "file_extension": ".py",
   "mimetype": "text/x-python",
   "name": "python",
   "nbconvert_exporter": "python",
   "pygments_lexer": "ipython3",
   "version": "3.9.12"
  }
 },
 "nbformat": 4,
 "nbformat_minor": 5
}
